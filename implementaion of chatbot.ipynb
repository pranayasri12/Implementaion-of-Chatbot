{
 "cells": [
  {
   "cell_type": "markdown",
   "id": "f79f51eb-2b02-4616-b807-99ac63313f70",
   "metadata": {},
   "source": [
    "# IMPLEMENTAION OF CHATBOT"
   ]
  },
  {
   "cell_type": "code",
   "execution_count": null,
   "id": "c2ab9d3d-6355-406e-8f9a-6d08e7f36c30",
   "metadata": {},
   "outputs": [],
   "source": []
  }
 ],
 "metadata": {
  "kernelspec": {
   "display_name": "Python 3 (ipykernel)",
   "language": "python",
   "name": "python3"
  },
  "language_info": {
   "codemirror_mode": {
    "name": "ipython",
    "version": 3
   },
   "file_extension": ".py",
   "mimetype": "text/x-python",
   "name": "python",
   "nbconvert_exporter": "python",
   "pygments_lexer": "ipython3",
   "version": "3.12.2"
  }
 },
 "nbformat": 4,
 "nbformat_minor": 5
}
